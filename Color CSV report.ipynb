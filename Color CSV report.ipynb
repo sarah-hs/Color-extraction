{
 "cells": [
  {
   "cell_type": "code",
   "execution_count": 1,
   "metadata": {},
   "outputs": [],
   "source": [
    "CSV_FILE = \"./Resources/All.csv\"\n",
    "classes_dict = {0:'Diorite', 1:'Gabbro', 2:'Granite', 3:'Granodiorite'}"
   ]
  },
  {
   "cell_type": "markdown",
   "metadata": {},
   "source": [
    "#### 1. LOAD DATA"
   ]
  },
  {
   "cell_type": "code",
   "execution_count": 2,
   "metadata": {},
   "outputs": [
    {
     "name": "stdout",
     "output_type": "stream",
     "text": [
      "x shape: (562, 16) y shape: (562,)\n",
      "Classes: [0. 1. 2. 3.]\n",
      "Counts: [151 137 159 115]\n",
      "Indices: [274 425 115   0]\n",
      "Classes dictionary: {0: 'Diorite', 1: 'Gabbro', 2: 'Granite', 3: 'Granodiorite'}\n"
     ]
    }
   ],
   "source": [
    "import numpy as np\n",
    "data = np.loadtxt(CSV_FILE, delimiter=\",\")\n",
    "\n",
    "#data = data[data[:,-1] != 0]\n",
    "#data = data[data[:,-1] != 1]\n",
    "#data = data[data[:,-1] != 2]\n",
    "#data = data[data[:,-1] != 3]\n",
    "\n",
    "x = data[:, :-1]\n",
    "y = data[:, -1]\n",
    "print('x shape:', x.shape, 'y shape:', y.shape)\n",
    "\n",
    "classes, indices, counts = np.unique(y, return_counts=True, return_index=True)\n",
    "\n",
    "print('Classes:', classes)\n",
    "print('Counts:', counts)\n",
    "print('Indices:', indices)\n",
    "print('Classes dictionary:', classes_dict)"
   ]
  },
  {
   "cell_type": "markdown",
   "metadata": {},
   "source": [
    "#### 2. SPLIT DATA"
   ]
  },
  {
   "cell_type": "code",
   "execution_count": 3,
   "metadata": {},
   "outputs": [],
   "source": [
    "# Val = 20%, test = 16%, train = 64%\n",
    "from sklearn.model_selection import train_test_split as splitter\n",
    "xtt, xval, ytt, yval = splitter(x,y,train_size=0.8,random_state=42)\n",
    "\n",
    "xtrain, xtest, ytrain, ytest = splitter(xtt,ytt,train_size=0.8,random_state=42)"
   ]
  },
  {
   "cell_type": "code",
   "execution_count": 4,
   "metadata": {},
   "outputs": [],
   "source": [
    "def get_uniques(arr, name):\n",
    "    print('<<', name, '>>')\n",
    "    classes, indices, counts = np.unique(arr, return_counts=True, return_index=True)\n",
    "    print('Classes:', classes)\n",
    "    print('Counts:', counts)\n",
    "    print('Indices:', indices)"
   ]
  },
  {
   "cell_type": "code",
   "execution_count": 5,
   "metadata": {},
   "outputs": [
    {
     "name": "stdout",
     "output_type": "stream",
     "text": [
      "<< Train >>\n",
      "Classes: [0. 1. 2. 3.]\n",
      "Counts: [ 95  92 101  71]\n",
      "Indices: [2 1 0 8]\n",
      "<< Test >>\n",
      "Classes: [0. 1. 2. 3.]\n",
      "Counts: [29 20 26 15]\n",
      "Indices: [ 2  1  0 13]\n",
      "<< Val >>\n",
      "Classes: [0. 1. 2. 3.]\n",
      "Counts: [27 25 32 29]\n",
      "Indices: [2 0 5 3]\n"
     ]
    }
   ],
   "source": [
    "get_uniques(ytrain, 'Train')\n",
    "get_uniques(ytest, 'Test')\n",
    "get_uniques(yval, 'Val')"
   ]
  },
  {
   "cell_type": "markdown",
   "metadata": {},
   "source": [
    "#### 3. NORMALIZE DATA"
   ]
  },
  {
   "cell_type": "code",
   "execution_count": 6,
   "metadata": {},
   "outputs": [],
   "source": [
    "from sklearn.preprocessing import MinMaxScaler\n",
    "normalizer = MinMaxScaler()\n",
    "xtrainNorm = normalizer.fit_transform(xtrain)\n",
    "xtestNorm = normalizer.fit_transform(xtest)"
   ]
  },
  {
   "cell_type": "markdown",
   "metadata": {},
   "source": [
    "#### 4. TRAINING MODEL"
   ]
  },
  {
   "cell_type": "code",
   "execution_count": 7,
   "metadata": {},
   "outputs": [
    {
     "data": {
      "text/plain": [
       "LogisticRegression()"
      ]
     },
     "execution_count": 7,
     "metadata": {},
     "output_type": "execute_result"
    }
   ],
   "source": [
    "#   Logistic Regression\n",
    "from sklearn.linear_model import LogisticRegression\n",
    "logReg = LogisticRegression(solver='lbfgs')\n",
    "logReg.fit(xtrainNorm, ytrain)"
   ]
  },
  {
   "cell_type": "code",
   "execution_count": 8,
   "metadata": {},
   "outputs": [
    {
     "data": {
      "text/plain": [
       "KNeighborsClassifier(n_neighbors=3)"
      ]
     },
     "execution_count": 8,
     "metadata": {},
     "output_type": "execute_result"
    }
   ],
   "source": [
    "#   KNN\n",
    "from sklearn.neighbors import KNeighborsClassifier\n",
    "knn = KNeighborsClassifier(n_neighbors=3)\n",
    "knn.fit(xtrainNorm, ytrain)"
   ]
  },
  {
   "cell_type": "markdown",
   "metadata": {},
   "source": [
    "#### 5. TESTING MODEL"
   ]
  },
  {
   "cell_type": "code",
   "execution_count": 9,
   "metadata": {},
   "outputs": [],
   "source": [
    "from sklearn import metrics"
   ]
  },
  {
   "cell_type": "code",
   "execution_count": 10,
   "metadata": {},
   "outputs": [
    {
     "name": "stdout",
     "output_type": "stream",
     "text": [
      "<<MODELS REPORT LOG. REGRESSION>>\n",
      "Logistic Regression score: 0.6\n",
      "Logistic Regression Model accuracy: 0.6\n",
      "              precision    recall  f1-score   support\n",
      "\n",
      "         0.0       0.64      0.48      0.55        29\n",
      "         1.0       0.58      0.75      0.65        20\n",
      "         2.0       0.66      0.81      0.72        26\n",
      "         3.0       0.40      0.27      0.32        15\n",
      "\n",
      "    accuracy                           0.60        90\n",
      "   macro avg       0.57      0.58      0.56        90\n",
      "weighted avg       0.59      0.60      0.58        90\n",
      "\n"
     ]
    }
   ],
   "source": [
    "# Logistic Regression\n",
    "print(\"<<MODELS REPORT LOG. REGRESSION>>\")\n",
    "print(\"Logistic Regression score:\",logReg.score(xtestNorm, ytest))\n",
    "\n",
    "predictions = logReg.predict(xtestNorm)\n",
    "print(\"Logistic Regression Model accuracy:\", metrics.accuracy_score(ytest, predictions))\n",
    "print(metrics.classification_report(ytest,predictions))"
   ]
  },
  {
   "cell_type": "code",
   "execution_count": 11,
   "metadata": {},
   "outputs": [
    {
     "name": "stdout",
     "output_type": "stream",
     "text": [
      "<<MODEL REPORT KNN>>\n",
      "KNN score: 0.7\n",
      "KNN Model accuracy: 0.7\n",
      "              precision    recall  f1-score   support\n",
      "\n",
      "         0.0       0.68      0.79      0.73        29\n",
      "         1.0       0.70      0.70      0.70        20\n",
      "         2.0       0.76      0.73      0.75        26\n",
      "         3.0       0.64      0.47      0.54        15\n",
      "\n",
      "    accuracy                           0.70        90\n",
      "   macro avg       0.69      0.67      0.68        90\n",
      "weighted avg       0.70      0.70      0.70        90\n",
      "\n"
     ]
    }
   ],
   "source": [
    "# KNN\n",
    "print(\"<<MODEL REPORT KNN>>\")\n",
    "print(\"KNN score:\",knn.score(xtestNorm, ytest))\n",
    "\n",
    "predictions = knn.predict(xtestNorm)\n",
    "print(\"KNN Model accuracy:\", metrics.accuracy_score(ytest, predictions))\n",
    "print(metrics.classification_report(ytest,predictions))"
   ]
  },
  {
   "cell_type": "code",
   "execution_count": 12,
   "metadata": {},
   "outputs": [],
   "source": [
    "import pandas as pd\n",
    "\n",
    "def get_evaluation_dataframe(model, xdata, ydata, classes_dict):\n",
    "    real = []; predicted = []; accuracy = []\n",
    "    \n",
    "    classes, indices, counts = np.unique(ydata, return_counts=True, return_index=True)\n",
    "    \n",
    "    well_predicted = {key:0 for key in classes}\n",
    "    #well_predicted.fromkeys(classes, 0)\n",
    "    \n",
    "    probabilities = model.predict_proba(x)\n",
    "    \n",
    "    for (features, lbl, probs) in zip(xdata, ydata, probabilities):\n",
    "        r = int(lbl)\n",
    "        real.append(classes_dict[r])\n",
    "        p = int(model.predict([features]))\n",
    "        predicted.append(classes_dict[p])\n",
    "        accuracy.append(max(probs))\n",
    "        if(r == p):\n",
    "            well_predicted[r] += 1\n",
    "    \n",
    "    list_of_tuples = list(zip(real, predicted, accuracy))\n",
    "    \n",
    "    i = 0\n",
    "    for cl in classes:\n",
    "        idx = int(cl)\n",
    "        print(classes_dict[idx], well_predicted[idx], counts[i])\n",
    "        i+=1\n",
    "    \n",
    "    df = pd.DataFrame(list_of_tuples, columns = ['Real class', 'Predicted class', 'Accuracy'])\n",
    "    \n",
    "    return df"
   ]
  },
  {
   "cell_type": "code",
   "execution_count": 13,
   "metadata": {},
   "outputs": [
    {
     "name": "stdout",
     "output_type": "stream",
     "text": [
      "Diorite 0 27\n",
      "Gabbro 15 25\n",
      "Granite 0 32\n",
      "Granodiorite 27 29\n"
     ]
    },
    {
     "data": {
      "text/html": [
       "<div>\n",
       "<style scoped>\n",
       "    .dataframe tbody tr th:only-of-type {\n",
       "        vertical-align: middle;\n",
       "    }\n",
       "\n",
       "    .dataframe tbody tr th {\n",
       "        vertical-align: top;\n",
       "    }\n",
       "\n",
       "    .dataframe thead th {\n",
       "        text-align: right;\n",
       "    }\n",
       "</style>\n",
       "<table border=\"1\" class=\"dataframe\">\n",
       "  <thead>\n",
       "    <tr style=\"text-align: right;\">\n",
       "      <th></th>\n",
       "      <th>Real class</th>\n",
       "      <th>Predicted class</th>\n",
       "      <th>Accuracy</th>\n",
       "    </tr>\n",
       "  </thead>\n",
       "  <tbody>\n",
       "    <tr>\n",
       "      <th>0</th>\n",
       "      <td>Gabbro</td>\n",
       "      <td>Gabbro</td>\n",
       "      <td>1.0</td>\n",
       "    </tr>\n",
       "    <tr>\n",
       "      <th>1</th>\n",
       "      <td>Gabbro</td>\n",
       "      <td>Gabbro</td>\n",
       "      <td>1.0</td>\n",
       "    </tr>\n",
       "    <tr>\n",
       "      <th>2</th>\n",
       "      <td>Diorite</td>\n",
       "      <td>Granodiorite</td>\n",
       "      <td>1.0</td>\n",
       "    </tr>\n",
       "    <tr>\n",
       "      <th>3</th>\n",
       "      <td>Granodiorite</td>\n",
       "      <td>Granodiorite</td>\n",
       "      <td>1.0</td>\n",
       "    </tr>\n",
       "    <tr>\n",
       "      <th>4</th>\n",
       "      <td>Diorite</td>\n",
       "      <td>Granodiorite</td>\n",
       "      <td>1.0</td>\n",
       "    </tr>\n",
       "    <tr>\n",
       "      <th>...</th>\n",
       "      <td>...</td>\n",
       "      <td>...</td>\n",
       "      <td>...</td>\n",
       "    </tr>\n",
       "    <tr>\n",
       "      <th>108</th>\n",
       "      <td>Granite</td>\n",
       "      <td>Granodiorite</td>\n",
       "      <td>1.0</td>\n",
       "    </tr>\n",
       "    <tr>\n",
       "      <th>109</th>\n",
       "      <td>Diorite</td>\n",
       "      <td>Granodiorite</td>\n",
       "      <td>1.0</td>\n",
       "    </tr>\n",
       "    <tr>\n",
       "      <th>110</th>\n",
       "      <td>Granodiorite</td>\n",
       "      <td>Granodiorite</td>\n",
       "      <td>1.0</td>\n",
       "    </tr>\n",
       "    <tr>\n",
       "      <th>111</th>\n",
       "      <td>Gabbro</td>\n",
       "      <td>Granodiorite</td>\n",
       "      <td>1.0</td>\n",
       "    </tr>\n",
       "    <tr>\n",
       "      <th>112</th>\n",
       "      <td>Gabbro</td>\n",
       "      <td>Gabbro</td>\n",
       "      <td>1.0</td>\n",
       "    </tr>\n",
       "  </tbody>\n",
       "</table>\n",
       "<p>113 rows × 3 columns</p>\n",
       "</div>"
      ],
      "text/plain": [
       "       Real class Predicted class  Accuracy\n",
       "0          Gabbro          Gabbro       1.0\n",
       "1          Gabbro          Gabbro       1.0\n",
       "2         Diorite    Granodiorite       1.0\n",
       "3    Granodiorite    Granodiorite       1.0\n",
       "4         Diorite    Granodiorite       1.0\n",
       "..            ...             ...       ...\n",
       "108       Granite    Granodiorite       1.0\n",
       "109       Diorite    Granodiorite       1.0\n",
       "110  Granodiorite    Granodiorite       1.0\n",
       "111        Gabbro    Granodiorite       1.0\n",
       "112        Gabbro          Gabbro       1.0\n",
       "\n",
       "[113 rows x 3 columns]"
      ]
     },
     "execution_count": 13,
     "metadata": {},
     "output_type": "execute_result"
    }
   ],
   "source": [
    "get_evaluation_dataframe(logReg, xval, yval, classes_dict)"
   ]
  },
  {
   "cell_type": "code",
   "execution_count": 14,
   "metadata": {},
   "outputs": [
    {
     "name": "stdout",
     "output_type": "stream",
     "text": [
      "Diorite 0 27\n",
      "Gabbro 7 25\n",
      "Granite 32 32\n",
      "Granodiorite 0 29\n"
     ]
    },
    {
     "data": {
      "text/html": [
       "<div>\n",
       "<style scoped>\n",
       "    .dataframe tbody tr th:only-of-type {\n",
       "        vertical-align: middle;\n",
       "    }\n",
       "\n",
       "    .dataframe tbody tr th {\n",
       "        vertical-align: top;\n",
       "    }\n",
       "\n",
       "    .dataframe thead th {\n",
       "        text-align: right;\n",
       "    }\n",
       "</style>\n",
       "<table border=\"1\" class=\"dataframe\">\n",
       "  <thead>\n",
       "    <tr style=\"text-align: right;\">\n",
       "      <th></th>\n",
       "      <th>Real class</th>\n",
       "      <th>Predicted class</th>\n",
       "      <th>Accuracy</th>\n",
       "    </tr>\n",
       "  </thead>\n",
       "  <tbody>\n",
       "    <tr>\n",
       "      <th>0</th>\n",
       "      <td>Gabbro</td>\n",
       "      <td>Gabbro</td>\n",
       "      <td>1.000000</td>\n",
       "    </tr>\n",
       "    <tr>\n",
       "      <th>1</th>\n",
       "      <td>Gabbro</td>\n",
       "      <td>Gabbro</td>\n",
       "      <td>1.000000</td>\n",
       "    </tr>\n",
       "    <tr>\n",
       "      <th>2</th>\n",
       "      <td>Diorite</td>\n",
       "      <td>Granite</td>\n",
       "      <td>1.000000</td>\n",
       "    </tr>\n",
       "    <tr>\n",
       "      <th>3</th>\n",
       "      <td>Granodiorite</td>\n",
       "      <td>Granite</td>\n",
       "      <td>1.000000</td>\n",
       "    </tr>\n",
       "    <tr>\n",
       "      <th>4</th>\n",
       "      <td>Diorite</td>\n",
       "      <td>Granite</td>\n",
       "      <td>1.000000</td>\n",
       "    </tr>\n",
       "    <tr>\n",
       "      <th>...</th>\n",
       "      <td>...</td>\n",
       "      <td>...</td>\n",
       "      <td>...</td>\n",
       "    </tr>\n",
       "    <tr>\n",
       "      <th>108</th>\n",
       "      <td>Granite</td>\n",
       "      <td>Granite</td>\n",
       "      <td>1.000000</td>\n",
       "    </tr>\n",
       "    <tr>\n",
       "      <th>109</th>\n",
       "      <td>Diorite</td>\n",
       "      <td>Granite</td>\n",
       "      <td>1.000000</td>\n",
       "    </tr>\n",
       "    <tr>\n",
       "      <th>110</th>\n",
       "      <td>Granodiorite</td>\n",
       "      <td>Granite</td>\n",
       "      <td>1.000000</td>\n",
       "    </tr>\n",
       "    <tr>\n",
       "      <th>111</th>\n",
       "      <td>Gabbro</td>\n",
       "      <td>Granite</td>\n",
       "      <td>0.666667</td>\n",
       "    </tr>\n",
       "    <tr>\n",
       "      <th>112</th>\n",
       "      <td>Gabbro</td>\n",
       "      <td>Granite</td>\n",
       "      <td>1.000000</td>\n",
       "    </tr>\n",
       "  </tbody>\n",
       "</table>\n",
       "<p>113 rows × 3 columns</p>\n",
       "</div>"
      ],
      "text/plain": [
       "       Real class Predicted class  Accuracy\n",
       "0          Gabbro          Gabbro  1.000000\n",
       "1          Gabbro          Gabbro  1.000000\n",
       "2         Diorite         Granite  1.000000\n",
       "3    Granodiorite         Granite  1.000000\n",
       "4         Diorite         Granite  1.000000\n",
       "..            ...             ...       ...\n",
       "108       Granite         Granite  1.000000\n",
       "109       Diorite         Granite  1.000000\n",
       "110  Granodiorite         Granite  1.000000\n",
       "111        Gabbro         Granite  0.666667\n",
       "112        Gabbro         Granite  1.000000\n",
       "\n",
       "[113 rows x 3 columns]"
      ]
     },
     "execution_count": 14,
     "metadata": {},
     "output_type": "execute_result"
    }
   ],
   "source": [
    "get_evaluation_dataframe(knn, xval, yval, classes_dict)"
   ]
  }
 ],
 "metadata": {
  "kernelspec": {
   "display_name": "tf2",
   "language": "python",
   "name": "tf2"
  },
  "language_info": {
   "codemirror_mode": {
    "name": "ipython",
    "version": 3
   },
   "file_extension": ".py",
   "mimetype": "text/x-python",
   "name": "python",
   "nbconvert_exporter": "python",
   "pygments_lexer": "ipython3",
   "version": "3.7.9"
  }
 },
 "nbformat": 4,
 "nbformat_minor": 4
}
